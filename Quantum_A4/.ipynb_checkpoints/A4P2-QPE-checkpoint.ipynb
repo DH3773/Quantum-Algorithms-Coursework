{
 "cells": [
  {
   "cell_type": "markdown",
   "id": "1731c6ed",
   "metadata": {},
   "source": [
    "# Quantum Phase Estimation in Q\\#"
   ]
  },
  {
   "cell_type": "markdown",
   "id": "294b0078",
   "metadata": {},
   "source": [
    "In this notebook, we will implement the QPE for single qubit unitaries (such as Z, S, and T). Following are a set of libraries that are useful for this assignment. "
   ]
  },
  {
   "cell_type": "code",
   "execution_count": 1459,
   "id": "c83f4be5",
   "metadata": {},
   "outputs": [
    {
     "data": {
      "application/x-qsharp-data": "[]",
      "text/html": [
       "<ul></ul>"
      ],
      "text/plain": []
     },
     "execution_count": 1459,
     "metadata": {
      "application/x-qsharp-data": {},
      "text/html": {},
      "text/plain": {}
     },
     "output_type": "execute_result"
    }
   ],
   "source": [
    "open Microsoft.Quantum.Measurement;\n",
    "open Microsoft.Quantum.Canon;\n",
    "open Microsoft.Quantum.Arithmetic;\n",
    "open Microsoft.Quantum.Diagnostics;\n",
    "open Microsoft.Quantum.Arrays;\n",
    "open Microsoft.Quantum.Math;\n",
    "open Microsoft.Quantum.Convert;"
   ]
  },
  {
   "cell_type": "markdown",
   "id": "932f2d76",
   "metadata": {},
   "source": [
    "## Task 1 - Quantum Fourier Transform \n",
    "Implement an **operation** ```QuantumFourierTransform``` that performs QFT on given set of input qubits. This operation should be **Adjointable** and **Controllable**. \n",
    "\n",
    "Args: \n",
    "    \n",
    "    qs (Qubit[]): An array of qubits \n",
    "\n",
    "Returns: \n",
    "\n",
    "    None"
   ]
  },
  {
   "cell_type": "code",
   "execution_count": 1460,
   "id": "13043fd6",
   "metadata": {},
   "outputs": [
    {
     "data": {
      "application/x-qsharp-data": "[\"QuantumFourierTransform\"]",
      "text/html": [
       "<ul><li>QuantumFourierTransform</li></ul>"
      ],
      "text/plain": [
       "QuantumFourierTransform"
      ]
     },
     "execution_count": 1460,
     "metadata": {
      "application/x-qsharp-data": {},
      "text/html": {},
      "text/plain": {}
     },
     "output_type": "execute_result"
    }
   ],
   "source": [
    "operation QuantumFourierTransform(qs: Qubit[]): Unit is Adj + Ctl{\n",
    "    for i in 0 .. Length(qs) - 1 {\n",
    "\n",
    "        H(qs[i]);\n",
    "\n",
    "        if(i != (Length(qs)-1) ){\n",
    "\n",
    "            for j in (i + 1) .. Length(qs) - 1 {\n",
    "                //Apply U_ROTk\n",
    "                let k = 1.0 + IntAsDouble(j-i);\n",
    "                Controlled R1([qs[j]], (2.0*PI()/PowD(2.0, k), qs[i]));\n",
    "            }\n",
    "        }\n",
    "    }\n",
    "    for i in 0 .. Length(qs) - 1 {\n",
    "        SWAP(qs[i], qs[Length(qs) - 1 - i]);\n",
    "    }\n",
    "    \n",
    "}\n"
   ]
  },
  {
   "cell_type": "markdown",
   "id": "0f087534",
   "metadata": {},
   "source": [
    "## Task 2 - Controlled Unitaries for phase kickback\n",
    "\n",
    "Implement an **operation** ```ControlledUnitaries``` that performs controlled rotations on given set of input qubits according to the Quantum Phase Estimation algorithm.\n",
    "\n",
    "Args: \n",
    "    \n",
    "    estimation_qs (Qubit[]): An array of qubits (controls)\n",
    "    U (Qubit => Unit is Ctl + Adj): A single qubit unitary matrix\n",
    "    target_qubit (Qubit): Target qubit for the controlled unitaries\n",
    "\n",
    "Returns: \n",
    "\n",
    "    None\n",
    "    \n",
    "Hint: Checkout the ```Canon``` library to apply powers of $U$ easily. Note that you can do this without the library as well. "
   ]
  },
  {
   "cell_type": "code",
   "execution_count": 1461,
   "id": "736ab8a7",
   "metadata": {},
   "outputs": [
    {
     "data": {
      "application/x-qsharp-data": "[\"ControlledUnitaries\"]",
      "text/html": [
       "<ul><li>ControlledUnitaries</li></ul>"
      ],
      "text/plain": [
       "ControlledUnitaries"
      ]
     },
     "execution_count": 1461,
     "metadata": {
      "application/x-qsharp-data": {},
      "text/html": {},
      "text/plain": {}
     },
     "output_type": "execute_result"
    }
   ],
   "source": [
    "operation ControlledUnitaries(estimation_qs: Qubit[], U: Qubit => Unit is Ctl + Adj, target_qubit: Qubit): Unit {\n",
    "    for i in 0 .. Length(estimation_qs)-1 {\n",
    "        let Upowered = OperationPowCA(U, Truncate(PowD(2.0, IntAsDouble(Length(estimation_qs) - 1 - i))));\n",
    "        Controlled Upowered(estimation_qs, target_qubit);\n",
    "    }\n",
    "}"
   ]
  },
  {
   "cell_type": "markdown",
   "id": "6e61de64",
   "metadata": {},
   "source": [
    "## Task 3 - Convert from fractional binary to decimal\n",
    "Implement a **function** ```ThetaDecimal```that converts the phase from fractional binary to decimal according to the formula:\n",
    "\n",
    "$$\\theta = 0.\\theta_1\\theta_2..\\theta_t \\text{  in fractional binary} \\\\\n",
    "\\theta = \\frac{1}{2^1} + \\frac{1}{2^2} + \\cdots \\frac{1}{2^t}  \\text{  in decimal}$$\n",
    "\n",
    "Args: \n",
    "    \n",
    "    theta_bin (Int[]): An array of bits (containing 0 or 1) in fractional binary. E.g. 0.110 would be represented as [1, 1, 0]\n",
    "   \n",
    "Returns: \n",
    "\n",
    "    Double: The phase value in decimal. \n",
    "    \n",
    "Possibly useful: https://learn.microsoft.com/en-us/azure/quantum/user-guide/libraries/standard/convert"
   ]
  },
  {
   "cell_type": "code",
   "execution_count": 1462,
   "id": "5ced4629",
   "metadata": {},
   "outputs": [
    {
     "data": {
      "application/x-qsharp-data": "[\"ThetaDecimal\"]",
      "text/html": [
       "<ul><li>ThetaDecimal</li></ul>"
      ],
      "text/plain": [
       "ThetaDecimal"
      ]
     },
     "execution_count": 1462,
     "metadata": {
      "application/x-qsharp-data": {},
      "text/html": {},
      "text/plain": {}
     },
     "output_type": "execute_result"
    }
   ],
   "source": [
    "function ThetaDecimal(theta_bin: Int[]): Double {\n",
    "    mutable result = 0.0;\n",
    "    for i in 0 .. Length(theta_bin)-1 {\n",
    "        set result = result + (IntAsDouble(theta_bin[i])/PowD(2.0, IntAsDouble(i+1)));\n",
    "    }\n",
    "    \n",
    "    return result;\n",
    "}"
   ]
  },
  {
   "cell_type": "markdown",
   "id": "3f6e5eec",
   "metadata": {},
   "source": [
    "## Task 4 - QPE for Z, T, X\n",
    "Use ***ONLY*** operations and functions from Task 1, Task 2, and Task 3 to calculate $\\theta$ for the Z gate, T gate, X gate. For each of the cases answer the following questions:\n",
    "\n",
    "1. What are the eigenvalues and eigenvectors of each of the gates? The Z gate is given. Fill in the following table. \n",
    "2. How many qubits are required for each of the cases?\n",
    "3. What is the phase observed in each of the cases?\n",
    "\n",
    "Fill in the following table to answer 1, 2, and 3.\n",
    "  \n",
    "\n",
    "I believe that there is a bug in my QFT as when I try and find the eigenvalue for the $|1\\rangle$ with the T gate I get non deterministic results as the adjoing QFT doesn't set a state to have an amplitude of 1 (it does for every other case shown below, just not for the T gate with $|1\\rangle$). I've commented DumpMachine calls so that you can see it if you'd like.\n",
    "\n",
    "| Gate  \t| Eigenvector  \t| Eigenvalue \t| Min. est. qubits* | Phase observed^  \t|\n",
    "|-------\t|--------------\t|------------\t|-----------------\t|-----------------\t|\n",
    "| Z     \t| $|0\\rangle$ \t| 1          \t| 1               \t| 0.0              \t|\n",
    "|       \t| $|1\\rangle$ \t| -1         \t| 1               \t| 0.5              \t|\n",
    "| T     \t| $|0\\rangle$ \t| 1          \t| 1               \t| 0.0              \t|\n",
    "|       \t| $|1\\rangle$ \t|            \t|                 \t|               \t|\n",
    "| X     \t| $|+\\rangle$  \t| 1           \t| 1                \t| 0.0              \t|\n",
    "|       \t| $|-\\rangle$  \t| -1           \t| 1                \t| 0.5               |\n",
    "\n",
    "\\* = Min. est. qubits = Minimum Estimation qubits (not including the target qubit)\n",
    "\n",
    "^ = Phase observed from the operation below \n",
    "\n",
    "Args: \n",
    "    \n",
    "    None\n",
    "   \n",
    "Returns: \n",
    "\n",
    "    Double: The phase value obtained by running QPE"
   ]
  },
  {
   "cell_type": "code",
   "execution_count": 1463,
   "id": "333da5ab",
   "metadata": {
    "scrolled": true
   },
   "outputs": [
    {
     "data": {
      "application/x-qsharp-data": "[\"QPE\",\"_1b87a86eefb9421fb59580c07a4badeb_QPE\"]",
      "text/html": [
       "<ul><li>QPE</li><li>_1b87a86eefb9421fb59580c07a4badeb_QPE</li></ul>"
      ],
      "text/plain": [
       "QPE, _1b87a86eefb9421fb59580c07a4badeb_QPE"
      ]
     },
     "execution_count": 1463,
     "metadata": {
      "application/x-qsharp-data": {},
      "text/html": {},
      "text/plain": {}
     },
     "output_type": "execute_result"
    }
   ],
   "source": [
    "operation QPE(): Double {\n",
    "    use estimation_qs = Qubit[1]; \n",
    "    use target = Qubit();\n",
    "    \n",
    "    //prepare eigenstate\n",
    "    \n",
    "    X(target);\n",
    "    //H(target);\n",
    "    \n",
    "    // Use *ONLY* operations/functions from Tasks 1, 2, 3\n",
    "    // To implement QPE\n",
    "    \n",
    "    //apply hadamard basis to estimation qubits\n",
    "    for q in estimation_qs{\n",
    "        QuantumFourierTransform([q]);\n",
    "    }\n",
    "    //DumpMachine();\n",
    "    ControlledUnitaries(estimation_qs, T, target);\n",
    "    //DumpMachine();\n",
    "    Adjoint QuantumFourierTransform(estimation_qs);\n",
    "    //DumpMachine();\n",
    "\n",
    "    // Interpret results\n",
    "    let decodedBits = ForEach((x) => M(x) == One ? 1 | 0, estimation_qs);\n",
    "    Reset(target);\n",
    "    return ThetaDecimal(decodedBits);\n",
    "}"
   ]
  },
  {
   "cell_type": "code",
   "execution_count": null,
   "id": "11531b09",
   "metadata": {},
   "outputs": [],
   "source": [
    "%simulate QPE"
   ]
  },
  {
   "cell_type": "markdown",
   "id": "a5cb04a1",
   "metadata": {},
   "source": [
    "## Task 5 - QPE for an arbitrary Z rotation\n",
    "\n",
    "Find the phase of ```MysteryGate``` operation when the target qubit is prepared in the $|1\\rangle$ state.\n",
    "\n",
    "[Definition of the Rz gate](https://learn.microsoft.com/en-us/qsharp/api/qsharp/microsoft.quantum.intrinsic.rz)\n",
    "\n",
    "Answer the following question:\n",
    "1. What is the $\\theta$ value that we expect from QPE?  \n",
    "Given the below MysteryGate, we would expect the value of ${\\large e^\\frac{4i\\pi}{3}}$\n",
    "2. What is the $\\theta$ value that you get when number of estimation qubits are\n",
    "    * 2\n",
    "    * 5\n",
    "    * 10\n",
    "3. Explain your results. "
   ]
  },
  {
   "cell_type": "code",
   "execution_count": null,
   "id": "5a7f0a17",
   "metadata": {},
   "outputs": [],
   "source": [
    "operation MysteryGate(qubit: Qubit) : Unit is Adj+Ctl {\n",
    "    Rz(4.0*PI()/3.0, qubit);\n",
    "}"
   ]
  },
  {
   "cell_type": "code",
   "execution_count": null,
   "id": "84a2da1c",
   "metadata": {},
   "outputs": [],
   "source": [
    "operation MysteryQPE(): Double {\n",
    "    use estimation_qs = Qubit[1]; \n",
    "    use target = Qubit();\n",
    "    \n",
    "    //prepare eigenstate\n",
    "    \n",
    "    X(target);\n",
    "    //H(target);\n",
    "    \n",
    "    // Use *ONLY* operations/functions from Tasks 1, 2, 3\n",
    "    // To implement QPE\n",
    "    \n",
    "    //apply hadamard basis to estimation qubits\n",
    "    for q in estimation_qs{\n",
    "        QuantumFourierTransform([q]);\n",
    "    }\n",
    "    DumpMachine();\n",
    "    ControlledUnitaries(estimation_qs, T, target);\n",
    "    DumpMachine();\n",
    "    Adjoint QuantumFourierTransform(estimation_qs);\n",
    "    DumpMachine();\n",
    "\n",
    "    // Interpret results\n",
    "    let decodedBits = ForEach((x) => M(x) == One ? 1 | 0, estimation_qs);\n",
    "    Reset(target);\n",
    "    return ThetaDecimal(decodedBits);\n",
    "}"
   ]
  },
  {
   "cell_type": "code",
   "execution_count": null,
   "id": "b1c29c70",
   "metadata": {},
   "outputs": [],
   "source": [
    "%simulate MysteryQPE"
   ]
  },
  {
   "cell_type": "markdown",
   "id": "244d52f3",
   "metadata": {},
   "source": []
  },
  {
   "cell_type": "code",
   "execution_count": null,
   "id": "3d69277d",
   "metadata": {},
   "outputs": [],
   "source": []
  }
 ],
 "metadata": {
  "kernelspec": {
   "display_name": "Q#",
   "language": "qsharp",
   "name": "iqsharp"
  },
  "language_info": {
   "file_extension": ".qs",
   "mimetype": "text/x-qsharp",
   "name": "qsharp",
   "version": "0.27"
  }
 },
 "nbformat": 4,
 "nbformat_minor": 5
}
