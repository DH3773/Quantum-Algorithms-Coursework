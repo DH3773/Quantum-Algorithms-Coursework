{
 "cells": [
  {
   "cell_type": "markdown",
   "id": "0d077823",
   "metadata": {},
   "source": [
    "# 1:"
   ]
  },
  {
   "cell_type": "markdown",
   "id": "8d09bcd9",
   "metadata": {},
   "source": [
    "#### To begin refreshing my memory on linear algebra I watched all of the provided 3Blue1Brown videos, and below is what I learnt in my words. all of the images are from this playlist: https://www.youtube.com/playlist?list=PLZHQObOWTQDPD3MizzM2xVFitgF8hE_ab\n"
   ]
  },
  {
   "cell_type": "markdown",
   "id": "ec10c22a",
   "metadata": {},
   "source": [
    "## Linear Algebra Basics"
   ]
  },
  {
   "attachments": {
    "Basic_Matrix.png": {
     "image/png": "[encoded data removed]"
    }
   },
   "cell_type": "markdown",
   "id": "c6380d31",
   "metadata": {},
   "source": [
    "![Basic_Matrix.png](attachment:Basic_Matrix.png)\n",
    "\n",
    "One way to think of a basic 2 dimensional matrix like this one, is that it represents the transformed linear space where i now equals $\\begin{bmatrix}3\\\\2\\end{bmatrix}$ and j equals $\\begin{bmatrix}2\\\\1\\end{bmatrix}$. This was a perspective that was not explored in my linear algebra course if memory serves, but helps immensely in understanding the purpose of a matrix (to transform linear space). Building upon this idea, multiplying the vector $\\begin{bmatrix}x\\\\y\\end{bmatrix}$ by the matrix above will result in that vector in transformed space (i.e. where i =  $\\begin{bmatrix}3\\\\-2\\end{bmatrix}$ and j = $\\begin{bmatrix}2\\\\1\\end{bmatrix}$). From the perspective of the original coordinate system, the resulting vector will be $\\begin{bmatrix}3x+2y\\\\-2x+1y\\end{bmatrix}$, but from the perspective of the transformed space the vector will just be $\\begin{bmatrix}xi\\\\yj\\end{bmatrix}$. I again believe that this perspective was not communicated enough in my courses, because once you understand this, most of the rest of the topics of Linear Algebra just make sense. A great way to solidify this idea is to look at common transformation matrices. The classic identity matrix $\\begin{bmatrix}1&0\\\\0&1\\end{bmatrix}$ does nothing because it transforms $i = 1\\cdot{i} + 0\\cdot{j}$ and $j = 0\\cdot{i} + 1\\cdot{j}$ which results in $i=i$ and $j=j$. Another common transformation in 2D is a 90 degree counter clockwise rotation, which can be easily represented as $\\begin{bmatrix}0&-1\\\\1&0\\end{bmatrix}$. This matrix works because it sets  $i = 0\\cdot{i} + 1\\cdot{j}$  and  $j = -1\\cdot{i} + 0\\cdot{j}$&nbsp;&nbsp;&nbsp;&nbsp;(resulting in $i=j$ and $j=-i$)."
   ]
  },
  {
   "cell_type": "markdown",
   "id": "5e376f75",
   "metadata": {},
   "source": [
    "\n",
    "    "
   ]
  },
  {
   "cell_type": "markdown",
   "id": "c3d746c3",
   "metadata": {},
   "source": [
    "## Determinants"
   ]
  },
  {
   "attachments": {
    "determinant1.png": {
     "image/png": "[encoded data removed]"
    }
   },
   "cell_type": "markdown",
   "id": "7abe1f9b",
   "metadata": {},
   "source": [
    " <p style=\"text-align: center;\">If you think of the square/parallelogram made by the basis vectors i and j (2 dimensional example):\n",
    "</p>\n",
    "\n",
    "![determinant1.png](attachment:determinant1.png)\n",
    " <p style=\"text-align: center;\">then the determinant of a 2x2 matrix can be thought of as the factor by which the area of that square/parallelogram changes:\n",
    "</p>\n",
    "\n",
    "![determinant2.png](determinant2.png)\n",
    "\n",
    "\n",
    "This means that a determinant between -1 and 1 will shrink the square/parallelogram, whereas a determinant <-1 or >1 will increase the size of the square/parallelogram. A negative determinant just means that the i and j vectors hve crossed over eachother, meaning that i is now to the left of j (if viewing from the origin). \n",
    "\n",
    "Lastly, a determinant of 0 is a special case where space is transformed into a lower dimension. So a 2D vector would end up as a 1D vector, turning 2D space into a number line. All of the above ideas translate into 3 dimensions and above, but become increasingly hard / impossible to model, and so for learning it's best to think in 1, 2, or 3 dimensional space.\n",
    "\n",
    "The above geometric reasoning for what a determinant is was defenitely lacking in my previous education on the subject, but again, helps immensely with my understanding of the topic. The way that 3Blue1Brown explains the topics geometrically and visually really clicks with my brain in a way that the course I took could not. This sentiment is is true for all of the following linear algebra topics as well, so I will stop explicitly mentioning it."
   ]
  },
  {
   "cell_type": "markdown",
   "id": "278fcd7e",
   "metadata": {},
   "source": [
    "  \n",
    "  "
   ]
  },
  {
   "cell_type": "markdown",
   "id": "7b6ae18d",
   "metadata": {},
   "source": [
    "## Rank, Column/Null Space"
   ]
  },
  {
   "cell_type": "markdown",
   "id": "6ae8bf62",
   "metadata": {},
   "source": [
    "If we think of a matrix as representing a linearly transformed space, then the rank is simply the dimensions of that space. This is especially important when we know a matrix has a determinant of 0, which tells us that it will reduce the dimensions of input vectors, but not by how much. The rank of that matrix will tell us exactly that, so a rank of 1 will result in 1 dimensional space, rank of 2 is 2 dimensional, and so on.\n",
    "\n",
    "\n",
    " <p style=\"text-align: center;\">The only time that rank isn't exactly what it seems is with non-square matrices like the one below: </p>\n",
    " \n",
    "![nonsquare_matrix.png](nonsquare_matrix.png)\n",
    "\n",
    "In this scenario, the matrix technically transforms a 2D vector into 3D space, by saying that where i lands is now in 3d space, and the same with j. However, while this matrix does transform into 3d space it is limited, the column space of this matrix is a plane in 3d (specifically the plane that passes through i and j), and so the rank is 2.\n",
    "\n",
    "The column space is the span of the column vectors of a matrix, and represents the set of all possible outputs of said matrix. If you have an n by n matrix with a rank <n, it means that one of the column vectors is linearly dependent of the others, and therefore the column space is equal to the rank. Note that the 0 vector will always be included in the column space, as linear transformations mustn’t move $\\vec{0}$.\n",
    "\n",
    "Lastly, the null space is the set of vectors that when transformed by the matrix become $\\vec{0}$ (null). You can think of it as all possible solutions $\\vec{x}$ to $A\\vec{x} = \\vec{0}$. Therefore, if you have a rank 0 matrix the only output is the 0 vector and so every vector is in the null space of that matrix. When rank = dimension, only the 0 vector will be transformed into the 0 vector, but when rank != dimension, you can have tons (technically infinite, but not all possible vectors (unless rank = 0)) of vectors transform into the 0 vector.\n",
    "\n",
    "With all of these topics covered geometrically, I was ready to re-learn eigenvectors and eigenvalues."
   ]
  },
  {
   "cell_type": "markdown",
   "id": "d215abbd",
   "metadata": {},
   "source": [
    "  \n",
    "  "
   ]
  },
  {
   "cell_type": "markdown",
   "id": "a68b4265",
   "metadata": {},
   "source": [
    "## Eigenvectors and Eigenvalues"
   ]
  },
  {
   "cell_type": "markdown",
   "id": "7a418898",
   "metadata": {},
   "source": [
    "![eigen1.png](eigen1.png)\n",
    "\n",
    "<p style=\"text-align: center;\">Most vectors, when transformed by a matrix, will get knocked off of their span like shown below: </p>\n",
    "\n",
    "![eigen2.png](eigen2.png)\n",
    "\n",
    "However, there are cases where vectors remain along their span, even after transformation. This would mean that the only effect the matrix has on the vector is to squish/stretch/flip it.\n",
    "\n",
    "![eigen3.png](eigen3.png)\n",
    "\n",
    "Any vector on the yellow or green line will stay on its span after the transformation, whereas the purple vector gets knocked off of its original span (the reddish line). The vectors that stay on their span are called eigenvectors. Each eigenvectors has an eigenvalue, which is just the factor by which any vector on the line will get stretched or squished (or flipped if negative).\n",
    "\n",
    "As for applicable uses of this, the example that stuck with me the most was: say you have a rotation matrix in 3 dimensions, if you find the eigenvector, you've found the axis of rotation. This type of application is especially useful for 3D modelling, which I took a course one previously, allowing me to solidify the concept quickly."
   ]
  },
  {
   "cell_type": "markdown",
   "id": "9e85851b",
   "metadata": {},
   "source": [
    "  \n",
    "  "
   ]
  },
  {
   "cell_type": "markdown",
   "id": "61c6afe4",
   "metadata": {},
   "source": [
    "## Euler's Formula"
   ]
  },
  {
   "cell_type": "markdown",
   "id": "3880643f",
   "metadata": {},
   "source": [
    "Euler's formula was a new concept to me, as it was never covered in my calculus or linear algebra courses. To be honest I was a bit afraid of it at the beginning because I have relatively little experience with complex numbers. However, upon watching two different 3Blue1Brown videos on it (both coming from different types of mathematical perspectives), it became easy to understand. \n",
    "\n",
    "![euler's.png](euler's.png)\n",
    "The description that stuck with me most, was just that it is the unit circle, where the x axis is real numbers (like normal) but the y axis has been replaced by imaginary numbers. So in many respects, all of my mathematical background dealing with the unit circle is applicable, I just need to replace the y axis. This meant that instead of having to purely memorize the below outputs, I could apply my mathematical background to easily get the answer.\n",
    "![euler's2.png](euler's2.png)\n",
    "\n",
    "Both of the above images are from lecture slides"
   ]
  },
  {
   "cell_type": "markdown",
   "id": "aed79a62",
   "metadata": {},
   "source": [
    "  \n",
    "    \n",
    "    "
   ]
  },
  {
   "cell_type": "markdown",
   "id": "91d607e4",
   "metadata": {},
   "source": [
    "# 2:"
   ]
  },
  {
   "cell_type": "markdown",
   "id": "856eb22c",
   "metadata": {},
   "source": [
    "#### This course is the first time I've used Jupyter Notebook, let alone Latex and markdown, so I had a lot to learn to complete my first assignment. Below I have listed all of the Latex functions I have learnt."
   ]
  },
  {
   "cell_type": "markdown",
   "id": "02d50464",
   "metadata": {},
   "source": [
    "$\\newcommand{\\ket}[1]{\\left|{#1}\\right\\rangle}$\n",
    "$\\newcommand{\\bra}[1]{\\left\\langle{#1}\\right|}$\n",
    "$\\newcommand{\\braket}[2]{\\left\\langle{#1}\\middle|{#2}\\right\\rangle}$\n",
    "\n",
    "Greek Letters:\n",
    "$\\alpha$, $\\beta$\n",
    "\n",
    "Bra Ket Notation:\n",
    "$\\bra{\\alpha}$, $\\ket{\\beta}$,\n",
    "\n",
    "Vector Notation:\n",
    " $\\ket{1} = \\begin{bmatrix}0\\\\1\\end{bmatrix}$,\n",
    " $\\ket{01} = \\begin{bmatrix}0\\\\1\\\\0\\\\0\\end{bmatrix} = \\ket{0} \\otimes \\ket{1}$\n",
    " \n",
    " Matrix Notation / Quantum Gates:\n",
    " $I = \\begin{bmatrix}1 & 0\\\\0 & 1\\end{bmatrix}, H = \\begin{bmatrix}1 & 1\\\\1 & -1\\end{bmatrix}$\n",
    " \n",
    " Dirac Notation:\n",
    " $H\\ket{0} = \\frac{1}{\\sqrt{2}} (\\, \\ket{0} + \\ket{1}\\,)$\n",
    " \n",
    " \n",
    " \n",
    " "
   ]
  },
  {
   "cell_type": "markdown",
   "id": "9129961a",
   "metadata": {},
   "source": [
    "  "
   ]
  },
  {
   "cell_type": "markdown",
   "id": "095b0c8e",
   "metadata": {},
   "source": [
    "# 3:"
   ]
  },
  {
   "cell_type": "markdown",
   "id": "2f529361",
   "metadata": {},
   "source": [
    "#### I started my journey with Quantum Programming by learning Qiskitt, as I felt as though it was the easier, and more focused, of the two options when trying to build your first circuits. Below I will show you some of the first circuits I made in Qiskit along with what they do."
   ]
  },
  {
   "cell_type": "code",
   "execution_count": 1,
   "id": "dc9baeba",
   "metadata": {},
   "outputs": [],
   "source": [
    "from qiskit import *\n",
    "from qiskit.visualization import *"
   ]
  },
  {
   "cell_type": "code",
   "execution_count": 2,
   "id": "c8e4d629",
   "metadata": {},
   "outputs": [
    {
     "data": {
      "text/html": [
       "<pre style=\"word-wrap: normal;white-space: pre;background: #fff0;line-height: 1.1;font-family: &quot;Courier New&quot;,Courier,monospace\">        ┌───┐┌───┐┌─┐\n",
       "     q: ┤ X ├┤ Z ├┤M├\n",
       "        └───┘└───┘└╥┘\n",
       "creg: 1/═══════════╩═\n",
       "                   0 </pre>"
      ],
      "text/plain": [
       "        ┌───┐┌───┐┌─┐\n",
       "     q: ┤ X ├┤ Z ├┤M├\n",
       "        └───┘└───┘└╥┘\n",
       "creg: 1/═══════════╩═\n",
       "                   0 "
      ]
     },
     "execution_count": 2,
     "metadata": {},
     "output_type": "execute_result"
    }
   ],
   "source": [
    "qc = QuantumCircuit()\n",
    "qr = QuantumRegister(1,'q')\n",
    "cr = ClassicalRegister(1,'creg')\n",
    "\n",
    "qc.add_register(qr)\n",
    "qc.add_register(cr)\n",
    "\n",
    "qc.x(qr[0])\n",
    "qc.z(qr[0])\n",
    "qc.measure(qr[0], cr[0])\n",
    "qc.draw()"
   ]
  },
  {
   "cell_type": "markdown",
   "id": "4ae1f0b5",
   "metadata": {},
   "source": [
    "This circuit is extremely basic, just applying the X and Z gate to a $\\ket{0}$ qubit, followed by measuring the qubit and storing the reasult in a classical register."
   ]
  },
  {
   "cell_type": "markdown",
   "id": "0d1a9385",
   "metadata": {},
   "source": [
    "  "
   ]
  },
  {
   "cell_type": "code",
   "execution_count": 8,
   "id": "28949b49",
   "metadata": {},
   "outputs": [
    {
     "data": {
      "text/html": [
       "<pre style=\"word-wrap: normal;white-space: pre;background: #fff0;line-height: 1.1;font-family: &quot;Courier New&quot;,Courier,monospace\">        ┌───┐     ┌─┐   \n",
       "   q_0: ┤ H ├──■──┤M├───\n",
       "        └───┘┌─┴─┐└╥┘┌─┐\n",
       "   q_1: ─────┤ X ├─╫─┤M├\n",
       "             └───┘ ║ └╥┘\n",
       "creg: 2/═══════════╩══╩═\n",
       "                   0  1 </pre>"
      ],
      "text/plain": [
       "        ┌───┐     ┌─┐   \n",
       "   q_0: ┤ H ├──■──┤M├───\n",
       "        └───┘┌─┴─┐└╥┘┌─┐\n",
       "   q_1: ─────┤ X ├─╫─┤M├\n",
       "             └───┘ ║ └╥┘\n",
       "creg: 2/═══════════╩══╩═\n",
       "                   0  1 "
      ]
     },
     "execution_count": 8,
     "metadata": {},
     "output_type": "execute_result"
    }
   ],
   "source": [
    "qc = QuantumCircuit()\n",
    "qr = QuantumRegister(2,'q')\n",
    "cr = ClassicalRegister(2,'creg')\n",
    "\n",
    "qc.add_register(qr)\n",
    "qc.add_register(cr)\n",
    "\n",
    "qc.h(qr[0])\n",
    "qc.cx(qr[0], qr[1])\n",
    "qc.measure(qr[0], cr[0])\n",
    "qc.measure(qr[1], cr[1])\n",
    "qc.draw()"
   ]
  },
  {
   "cell_type": "markdown",
   "id": "074ebedc",
   "metadata": {},
   "source": [
    "This circuit entangles two qubits into a bell state (specificall state $\\ket{\\phi^{+}}\\,$), and then measures them both. With Qiskit and Q#, we can also easily run simulations of the circuits we create, and using the visualization library we can plot our results like below."
   ]
  },
  {
   "cell_type": "code",
   "execution_count": 12,
   "id": "5631150d",
   "metadata": {},
   "outputs": [
    {
     "data": {
      "image/png": "[encoded data removed]",
      "text/plain": [
       "<Figure size 700x500 with 1 Axes>"
      ]
     },
     "execution_count": 12,
     "metadata": {},
     "output_type": "execute_result"
    }
   ],
   "source": [
    "aer_sim = Aer.get_backend('aer_simulator')\n",
    "job = aer_sim.run(qc, shots = 1024)\n",
    "hist = job.result().get_counts()\n",
    "plot_histogram(hist)"
   ]
  },
  {
   "cell_type": "markdown",
   "id": "dcacf316",
   "metadata": {},
   "source": [
    "You can see here that our results are either 00 or 11, and that is because our Bell State was $\\ket{\\phi^{+}}\\,$ which equals $\\frac{1}{\\sqrt{2}} (\\, \\ket{00} + \\ket{11}\\,)$."
   ]
  },
  {
   "cell_type": "markdown",
   "id": "c9ba2032",
   "metadata": {},
   "source": [
    "  "
   ]
  },
  {
   "cell_type": "markdown",
   "id": "80293fb8",
   "metadata": {},
   "source": [
    "#### After getting comfortable with Qiskit, I moved onto learning Q#. Which, unlike Qiskit, is an actual programming language. Qiskit was definitely harder to learn, as there are little to no official resources online, along with very few third party content / guides. So to begin, I just implemented the same circuits as above."
   ]
  },
  {
   "cell_type": "code",
   "execution_count": 13,
   "id": "ae479d91",
   "metadata": {},
   "outputs": [
    {
     "name": "stdout",
     "output_type": "stream",
     "text": [
      "Preparing Q# environment...\n"
     ]
    }
   ],
   "source": [
    "import qsharp\n",
    "import qsharp.azure\n",
    "import matplotlib.pyplot as plt"
   ]
  },
  {
   "cell_type": "code",
   "execution_count": 14,
   "id": "ec53c28e",
   "metadata": {},
   "outputs": [],
   "source": [
    "%%qsharp\n",
    "open Microsoft.Quantum.Diagnostics;\n",
    "\n",
    "operation P2Circuit1() : Result {\n",
    "    use qs = Qubit[2];\n",
    "    H(qs[0]);\n",
    "    CNOT(qs[0], qs[1]);\n",
    "    DumpMachine();\n",
    "    let result = M(qs[1]);\n",
    "    ResetAll(qs);\n",
    "    return result;\n",
    "}"
   ]
  },
  {
   "cell_type": "markdown",
   "id": "1465f2ca",
   "metadata": {},
   "source": [
    "Here I've implemented the same entanglement circuit as above, and you can see how different the structure is when programming in Q#. Unlike in Qiskit, we have to make operations, which are like functions except they can cause side-effects (whereas functions cannot in Q#)."
   ]
  },
  {
   "cell_type": "code",
   "execution_count": 22,
   "id": "56a6fd82",
   "metadata": {},
   "outputs": [
    {
     "data": {
      "application/x-qsharp-data": "{\"diagnostic_kind\":\"state-vector\",\"qubit_ids\":[0,1],\"n_qubits\":2,\"amplitudes\":{\"0\":{\"Real\":0.7071067811865476,\"Imaginary\":0.0,\"Magnitude\":0.7071067811865476,\"Phase\":0.0},\"1\":{\"Real\":0.0,\"Imaginary\":0.0,\"Magnitude\":0.0,\"Phase\":0.0},\"2\":{\"Real\":0.0,\"Imaginary\":0.0,\"Magnitude\":0.0,\"Phase\":0.0},\"3\":{\"Real\":0.7071067811865476,\"Imaginary\":0.0,\"Magnitude\":0.7071067811865476,\"Phase\":0.0}}}",
      "text/html": [
       "\r\n",
       "                    <table style=\"table-layout: fixed; width: 100%\">\r\n",
       "                        <thead>\r\n",
       "                            \r\n",
       "                        <tr>\r\n",
       "                            <th>Qubit IDs</th>\r\n",
       "                            <td span=\"3\">0, 1</td>\r\n",
       "                        </tr>\r\n",
       "                    \r\n",
       "                            <tr>\r\n",
       "                                <th style=\"width: 20ch)\">Basis state (little endian)</th>\r\n",
       "                                <th style=\"width: 20ch\">Amplitude</th><th style=\"width: calc(100% - 26ch - 20ch)\">Meas. Pr.</th><th style=\"width: 6ch\">Phase</th>\r\n",
       "                            </tr>\r\n",
       "                        </thead>\r\n",
       "                        <tbody>\r\n",
       "                        \r\n",
       "                            <tr>\r\n",
       "                                <td>$\\left|0\\right\\rangle$</td>\r\n",
       "                                <td>$0.7071 + 0.0000 i$</td>\r\n",
       "                                \r\n",
       "                                <td>\r\n",
       "                                    <progress\r\n",
       "                                        max=\"100\"\r\n",
       "                                        value=\"50.000000000000014\"\r\n",
       "                                        style=\"width: 100%;\"\r\n",
       "                                    > \r\n",
       "                                    <td>\r\n",
       "                                    <p id=\"round-0f055e7c-ae71-4a1f-9b47-5a3eda83f5d2\"> \r\n",
       "                                    <script>\r\n",
       "                                    var num = 50.000000000000014;\r\n",
       "                                    num = num.toFixed(4);\r\n",
       "                                    var num_string = num + \"%\";\r\n",
       "                                     document.getElementById(\"round-0f055e7c-ae71-4a1f-9b47-5a3eda83f5d2\").innerHTML = num_string;\r\n",
       "                                    </script> </p>\r\n",
       "                                    </td>\r\n",
       "                                </td>\r\n",
       "                            \r\n",
       "                                \r\n",
       "                                <td style=\"transform: rotate(0deg);\r\n",
       "                   text-align: center;\">\r\n",
       "                                 ↑\r\n",
       "                                </td>\r\n",
       "                            \r\n",
       "                            </tr>\r\n",
       "                        \n",
       "\r\n",
       "                            <tr>\r\n",
       "                                <td>$\\left|1\\right\\rangle$</td>\r\n",
       "                                <td>$0.0000 + 0.0000 i$</td>\r\n",
       "                                \r\n",
       "                                <td>\r\n",
       "                                    <progress\r\n",
       "                                        max=\"100\"\r\n",
       "                                        value=\"0\"\r\n",
       "                                        style=\"width: 100%;\"\r\n",
       "                                    > \r\n",
       "                                    <td>\r\n",
       "                                    <p id=\"round-a9ff7a6a-3b76-46dd-879e-960726269829\"> \r\n",
       "                                    <script>\r\n",
       "                                    var num = 0;\r\n",
       "                                    num = num.toFixed(4);\r\n",
       "                                    var num_string = num + \"%\";\r\n",
       "                                     document.getElementById(\"round-a9ff7a6a-3b76-46dd-879e-960726269829\").innerHTML = num_string;\r\n",
       "                                    </script> </p>\r\n",
       "                                    </td>\r\n",
       "                                </td>\r\n",
       "                            \r\n",
       "                                \r\n",
       "                                <td style=\"transform: rotate(0deg);\r\n",
       "                   text-align: center;\">\r\n",
       "                                 ↑\r\n",
       "                                </td>\r\n",
       "                            \r\n",
       "                            </tr>\r\n",
       "                        \n",
       "\r\n",
       "                            <tr>\r\n",
       "                                <td>$\\left|2\\right\\rangle$</td>\r\n",
       "                                <td>$0.0000 + 0.0000 i$</td>\r\n",
       "                                \r\n",
       "                                <td>\r\n",
       "                                    <progress\r\n",
       "                                        max=\"100\"\r\n",
       "                                        value=\"0\"\r\n",
       "                                        style=\"width: 100%;\"\r\n",
       "                                    > \r\n",
       "                                    <td>\r\n",
       "                                    <p id=\"round-5ca1813f-8ee0-48d4-9e94-0827a8c4329e\"> \r\n",
       "                                    <script>\r\n",
       "                                    var num = 0;\r\n",
       "                                    num = num.toFixed(4);\r\n",
       "                                    var num_string = num + \"%\";\r\n",
       "                                     document.getElementById(\"round-5ca1813f-8ee0-48d4-9e94-0827a8c4329e\").innerHTML = num_string;\r\n",
       "                                    </script> </p>\r\n",
       "                                    </td>\r\n",
       "                                </td>\r\n",
       "                            \r\n",
       "                                \r\n",
       "                                <td style=\"transform: rotate(0deg);\r\n",
       "                   text-align: center;\">\r\n",
       "                                 ↑\r\n",
       "                                </td>\r\n",
       "                            \r\n",
       "                            </tr>\r\n",
       "                        \n",
       "\r\n",
       "                            <tr>\r\n",
       "                                <td>$\\left|3\\right\\rangle$</td>\r\n",
       "                                <td>$0.7071 + 0.0000 i$</td>\r\n",
       "                                \r\n",
       "                                <td>\r\n",
       "                                    <progress\r\n",
       "                                        max=\"100\"\r\n",
       "                                        value=\"50.000000000000014\"\r\n",
       "                                        style=\"width: 100%;\"\r\n",
       "                                    > \r\n",
       "                                    <td>\r\n",
       "                                    <p id=\"round-bbc3529f-12dc-438b-81f3-e53bc40af19a\"> \r\n",
       "                                    <script>\r\n",
       "                                    var num = 50.000000000000014;\r\n",
       "                                    num = num.toFixed(4);\r\n",
       "                                    var num_string = num + \"%\";\r\n",
       "                                     document.getElementById(\"round-bbc3529f-12dc-438b-81f3-e53bc40af19a\").innerHTML = num_string;\r\n",
       "                                    </script> </p>\r\n",
       "                                    </td>\r\n",
       "                                </td>\r\n",
       "                            \r\n",
       "                                \r\n",
       "                                <td style=\"transform: rotate(0deg);\r\n",
       "                   text-align: center;\">\r\n",
       "                                 ↑\r\n",
       "                                </td>\r\n",
       "                            \r\n",
       "                            </tr>\r\n",
       "                        \r\n",
       "                        </tbody>\r\n",
       "                    </table>"
      ],
      "text/plain": [
       "|0⟩\t0.7071067811865476 + 0𝑖\n",
       "|1⟩\t0 + 0𝑖\n",
       "|2⟩\t0 + 0𝑖\n",
       "|3⟩\t0.7071067811865476 + 0𝑖"
      ]
     },
     "metadata": {},
     "output_type": "display_data"
    },
    {
     "data": {
      "text/plain": [
       "0"
      ]
     },
     "execution_count": 22,
     "metadata": {},
     "output_type": "execute_result"
    }
   ],
   "source": [
    "P2Circuit1.simulate()"
   ]
  },
  {
   "cell_type": "markdown",
   "id": "21e56028",
   "metadata": {},
   "source": [
    "Using Microsoft's DumpMachine() function, we've retrieved the theoretical quantum state at that point in our circuit, and while it looks different to the Qiskit one, they really are the same. Here, instead of using $\\ket{00}, \\ket{01}, \\ket{10},$ and $\\ket{11},$ they have labelled them $\\ket{1}, \\ket{2}, \\ket{3},$ and $\\ket{4}$. "
   ]
  },
  {
   "cell_type": "markdown",
   "id": "8a81e339",
   "metadata": {},
   "source": [
    "  \n",
    "  "
   ]
  },
  {
   "cell_type": "markdown",
   "id": "b6bcf38b",
   "metadata": {},
   "source": [
    "# 4:"
   ]
  },
  {
   "cell_type": "markdown",
   "id": "73932bbd",
   "metadata": {},
   "source": [
    "#### How would you motivate other students to join the journey into quantum computing given the motivational materials presented in class and found in the references?"
   ]
  },
  {
   "cell_type": "markdown",
   "id": "ecf31d27",
   "metadata": {},
   "source": [
    "I think motivation for this course has to start with destigmatizing quantum computing. To many, the words \"quantum computing\" are scary in the sense that they don't think that they'd be able to learn it. However, as this course has progressed, the only background knowledge I've used is linear algebra and some algorithm basics, skills which every student in computer science possess. Once students realise that this course is not as scary as it might seem, I think a lot more of us will be motivated to take it, especially given that it is a super interesting field.\n",
    "\n",
    "After destigmatization, I think that knowledge about job opportunities would be the next best motivator. Since the field is relatively new and only recently experiencing much growth, I believe that many students have no idea what job prospects in quantum computing look like. I'm somewwhat in the same boat, but at least to me the thought of working with physicists and engineers is exciting, given that I love STEM and originally wanted to be a physicist myself."
   ]
  },
  {
   "cell_type": "markdown",
   "id": "81fe86bd",
   "metadata": {},
   "source": [
    "  "
   ]
  },
  {
   "cell_type": "markdown",
   "id": "c85f52ee",
   "metadata": {},
   "source": [
    "# 5:"
   ]
  },
  {
   "cell_type": "markdown",
   "id": "85bca0f3",
   "metadata": {},
   "source": [
    "#### What are your personal insights, aha moments, and epiphanies you experienced in the first part of your quantum learning journey?"
   ]
  },
  {
   "cell_type": "markdown",
   "id": "8d4f68e4",
   "metadata": {},
   "source": [
    "I haven't had too many epiphanies yet, so I will likely come back to this section for part 2 with everything else we'll have covered by then. But if I had to pick, it would either be when I first learnt how to simply look at a state and tell if it was entangled, or when I accidentally saw phase kickback while writing out an algorithm in Dirac Notation. Both of those experiences were really key to my understanding of those topics."
   ]
  },
  {
   "cell_type": "markdown",
   "id": "b71a624f",
   "metadata": {},
   "source": [
    "  "
   ]
  },
  {
   "cell_type": "markdown",
   "id": "17b134bd",
   "metadata": {},
   "source": [
    "# 6:"
   ]
  },
  {
   "cell_type": "markdown",
   "id": "300d5e3f",
   "metadata": {},
   "source": [
    "#### Which algorithm is your favourite quantum algorithm so far?"
   ]
  },
  {
   "cell_type": "markdown",
   "id": "709283f0",
   "metadata": {},
   "source": [
    "For myself it would have to either be the quantum teleportation algorithm or Grover's algorithm. With the quantum teleportation algorithm, the thought of how the teleportation itself is physically bounded by the speed of light due to the required classical communication is fascinating and \"feels\" right if that makes sense. Whereas with Grover's algorithm, how seemingly simple it is really adds to the elegance. Furthermore, the fact that we can construct a giant matrix that targets exactly the qubit we are searching for, purely out of the quantum gates that we've been using, is incredible. Beating even that, though, is the construction of the diffusion operator; as someone with relatively small linear algebra application experience, the thought that a matrix could invert all of the qubits about the mean of their amplitudes is fascinating."
   ]
  },
  {
   "cell_type": "markdown",
   "id": "8133d06e",
   "metadata": {},
   "source": [
    "  "
   ]
  },
  {
   "cell_type": "markdown",
   "id": "83cb1e57",
   "metadata": {},
   "source": [
    "# 7:"
   ]
  },
  {
   "cell_type": "markdown",
   "id": "e26045af",
   "metadata": {},
   "source": [
    "#### What was the most challenging part of understanding Grover's algorithm?"
   ]
  },
  {
   "cell_type": "markdown",
   "id": "135cff7a",
   "metadata": {},
   "source": [
    "I hadn't really had time to go over the Deutsch-Jozsa algorithm again by the time we got to Grover's, so understanding the quantum oracle was definitely the hardest part, but in the end the algorithm definitely clicked, especially once we learnt how to create the Oracle and Diffusion Operator matrices."
   ]
  },
  {
   "cell_type": "markdown",
   "id": "659ea847",
   "metadata": {},
   "source": [
    "  "
   ]
  },
  {
   "cell_type": "markdown",
   "id": "4a4c2d73",
   "metadata": {},
   "source": [
    "## 8:"
   ]
  },
  {
   "cell_type": "markdown",
   "id": "a7d48015",
   "metadata": {},
   "source": [
    "#### In your own words, describe the Quantum Fourier Transform (QFT) algorithm. How is QFT used in quantum computing?"
   ]
  },
  {
   "cell_type": "markdown",
   "id": "385b24fe",
   "metadata": {},
   "source": [
    "The Quantum Fourier Transform is a special algorithm which transforms between the computational basis and the Fourier basis. In quantum computing we encode numbers using the computational basis states $|0\\rangle$ and $|1\\rangle$. This is directly comparable to how we store numbers classically using 0 and 1. Each number is composed of a number of bits in order of significance. Each two flips of a bit (0 to 1 and back to 0) corresponds with a signular flip of the next more significant bit, as shown in the below gif (least significant bit is on the right):\n",
    "![binary-counting.gif](binary-counting.gif)\n",
    "<p style=\"text-align: center;\">[https://www.futurelearn.com/info/courses/how-computers-work/0/steps/49261]</p>  \n",
    " \n",
    "The same holds true for qubits as seen below (least significant qubit is on the left):\n",
    "![zbasis-counting.gif](zbasis-counting.gif)\n",
    "<p style=\"text-align: center;\">[https://qiskit.org/textbook/ch-algorithms/quantum-fourier-transform.html]</p>  \n",
    "\n",
    "This is not the only way to encode numbers however. The Fourier basis represents numbers using rotations of qubits around the Z axis. Unlike in the computational basis, where incrementing the number by 1 flips the least significant qubit (and only sometimes others if there's carry), each increment by 1 in the Fourier basis rotates every qubit. The degree of rotation is dictated by the number of qubits (or the range of numbers we can represent). If n is the number of qubits, then we can represent $2^n$ numbers. Each increment by 1 will rotate the least significant qubit by $\\frac{2\\pi}{2^n}$ radians, and the next higher significant qubit by double that, and so on. A couple takeaways from this is that the higher the significance of the qubit, the more it rotates, and that the least significant qubit will rotate fully only once when incrementing through the full range of numbers. Here is a graphical representation of the 4 bit range encoded in 4 qubits using the Fourier basis (least significant qubit on the left):\n",
    "![fourier-counting.gif](fourierbasis-counting.gif)\n",
    "<p style=\"text-align: center;\">[https://qiskit.org/textbook/ch-algorithms/quantum-fourier-transform.html]</p>  \n",
    "\n",
    "\n",
    "The circuit itself makes a lot of sense once you understand the above concepts. One at a time each qubit has a Hadamard gate applied to it followed by a series of rotations (except for the least significant qubit, i.e. the bottom one). The Hadamard gates transforms the qubit into either the $|+\\rangle$ state (considered as 0 degrees of rotation) or the $|-\\rangle$ state (one $\\pi$ rotation). The qubit is then further rotated by ever decreasing amounts by each qubit that is both less significant than it and also set to $|1\\rangle$. The keen reader will notice that in the above gif it is the most sifnificant qubit that only rotates by $\\pi$ radians, and yet on the circuit it is the least significant bit (the Hadamard gate can be thought of as a $\\pi$ radian rotation if the input state is $|1\\rangle$). This is because the resulting states are backwards, and so you can see in the circuit that all of the states are swapped around the middle after barrier 4.\n",
    "![qft.png](qft.png)\n",
    "<p style=\"text-align: center;\">[https://qiskit.org/textbook/ch-algorithms/quantum-fourier-transform.html]</p> \n",
    "\n",
    "Now, why is this useful? As it turns out, the QFT is essential to multiple important quantum algorithms. For example, in QPE the $|1\\rangle$ components of the estimation qubits are left in varying states of rotation around the z axis. This phase does not affect measurements on the computational basis, but holds really important information. So in order to convert the phase into something measureable in the computational basis, we apply the adjoint QFT, which is just applying the reverse of the above process. Many algorithms store important data within unmeasurable phases of qubits, and so QFT is needed in order to extract that information.\n"
   ]
  },
  {
   "cell_type": "markdown",
   "id": "d753238a",
   "metadata": {},
   "source": [
    "  \n",
    "    "
   ]
  },
  {
   "cell_type": "markdown",
   "id": "f00a2093",
   "metadata": {},
   "source": [
    "## 9:"
   ]
  },
  {
   "cell_type": "markdown",
   "id": "db040708",
   "metadata": {},
   "source": [
    "#### In your own words, describe the Quantum Phase Estimation (QPE) algorithm. How is QPE used in quantum computing?"
   ]
  },
  {
   "cell_type": "markdown",
   "id": "0c25f4b5",
   "metadata": {},
   "source": [
    "The QPE algorithm is an extremely important algorithm for quantum computing, both on its own and as a subroutine for other algorithms. Given a Unitary $U$ and one of it's eigenvectors $|\\psi\\rangle$, QPE estimates $\\theta$ in $U|\\psi\\rangle = e^{2\\pi i \\theta}|\\psi\\rangle$ where $e^{2\\pi i \\theta}$ is the eigenvalue for eigenvector $|\\psi\\rangle$. We know that the eigenvalue will always take the form $e^{2\\pi i \\theta}$ as $U$ is a unitary matrix and must preserve the norm.  \n",
    "\n",
    "The phase angle $\\theta$ that we estimate with QPE will be in fractional binary, which takes the form $\\theta = 0.\\theta_1\\theta_2\\theta_3...\\theta_n = \\frac{\\theta_1}{2} + \\frac{\\theta_2}{2^2} + ... + \\frac{\\theta_n}{2^n}$. The number of bits of precision that we want directly correlates to the number of estimation qubits we need.\n",
    "\n",
    "The circuit works as follows:  \n",
    "\n",
    "1. The estimation qubits are placed into equal superposition, and the bottom qubit is in an eigenstate of unitary $U$  \n",
    "\n",
    "2. Each estimation qubit is applied the controlled unitary $2^{t-1}$ times, where $t$ is the estimation qubit's number (bottom is 1, top is t). This applies a phase of $e^{2\\pi i \\theta}$ for every application of the unitary $U$.  \n",
    "If you think of the phase angle in terms of fractional binary, applying it twice is equivalent to doubling it, which shifts the decimal point one digit to the right. So for example, $0.\\theta_1\\theta_2$ becomes $\\theta_1.\\theta_2$. The $\\theta_1$ (either a 0 or a 1) will cause either a $0$ or $2\\pi$ radian rotation around the Z axis, neither of which matter, and is thus discarded leaving just the $0.\\theta_2$ behind.  \n",
    "At the bottom, $U$ is only applied once, leaving the estimation qubit with phase angle $0.\\theta_0\\theta_1...\\theta_t$. Each step up the qubits has you doubling the amount of unitary $U$ you applied the previous time in order to shift the decimal over once more. Therefore, the top qubit will have a phase angle of $0.\\theta_t$.  \n",
    "\n",
    "3. The adjoint QFT is then applied to the set of estimation qubits. What this does is take converts the qubits from the Fourier basis to the computational basis, so that they can be measured while retaining their information. This will result in the state $|\\theta_1\\theta_2...\\theta_t\\rangle$. The trick here is to remember that QFT reverses the qubits, so while the top estimation wire previously had a phase angle of $0.\\theta_t$, it is now equivalent to $|\\theta_1\\rangle$.\n",
    "\n",
    "4. All that is left to do is measure, leaving you with $\\theta_1,\\theta_2,..,\\theta_t$, which will be the exact phase if $\\theta$ can be represented with t bit fractional binary. One might ask why it is called the quantum phase estimation if we can get the exact phase; It's called estimation because we generally don't know the number of bits of precision required to represent the phase angle beforehand, and so if it can't be represented with t bits, then it's an estimate of the phase.\n",
    "\n",
    "![qpe_tex_qz.png](qpe_tex_qz.png)\n",
    "<p style=\"text-align: center;\">[https://qiskit.org/textbook/ch-algorithms/quantum-fourier-transform.html]</p>  \n",
    "\n",
    "QPE has some absolutely fascinating applications, my favourite being for chemical systems. In chemistry, the interaction of atoms in a molecule can be modelled by a matrix called a Hamiltonian. The eigenvalues of said Hamiltonian correspond to the energy levels of the molecule, and so finding the minimum eigenvalue means you've found the ground state of the system, which is important for understanding the molecule and its interactions. QPE far exceeds classical methods for finding eigenvalues and therefore can be used to find the ground states of far more complicated molecules than a classical computer could. QPE is also fundamental to Shor's algorithm, one of the most famous quantum algorithms used for finding the prime factors of an integer."
   ]
  }
 ],
 "metadata": {
  "kernelspec": {
   "display_name": "quantum_kernel",
   "language": "python",
   "name": "quantum_kernel"
  },
  "language_info": {
   "codemirror_mode": {
    "name": "ipython",
    "version": 3
   },
   "file_extension": ".py",
   "mimetype": "text/x-python",
   "name": "python",
   "nbconvert_exporter": "python",
   "pygments_lexer": "ipython3",
   "version": "3.10.8"
  }
 },
 "nbformat": 4,
 "nbformat_minor": 5
}
