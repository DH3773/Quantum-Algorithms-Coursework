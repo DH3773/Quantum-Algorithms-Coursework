{
 "cells": [
  {
   "cell_type": "markdown",
   "id": "7e9007af",
   "metadata": {},
   "source": [
    "### a)"
   ]
  },
  {
   "cell_type": "code",
   "execution_count": 82,
   "id": "a42e146c",
   "metadata": {},
   "outputs": [],
   "source": [
    "from qiskit import *\n",
    "from qiskit.visualization import *\n",
    "from qiskit.circuit.library import *"
   ]
  },
  {
   "cell_type": "code",
   "execution_count": 89,
   "id": "29e682ea",
   "metadata": {},
   "outputs": [
    {
     "data": {
      "text/html": [
       "<pre style=\"word-wrap: normal;white-space: pre;background: #fff0;line-height: 1.1;font-family: &quot;Courier New&quot;,Courier,monospace\">              ░ ┌───┐ ░ ┌───┐     ┌───┐ ░ ┌───┐┌───┐ ░                 ░ ┌───┐»\n",
       "   q_0: ──────░─┤ H ├─░─┤ X ├──■──┤ X ├─░─┤ H ├┤ X ├─░────────■────────░─┤ X ├»\n",
       "              ░ ├───┤ ░ └───┘  │  └───┘ ░ ├───┤├───┤ ░        │        ░ ├───┤»\n",
       "   q_1: ──────░─┤ H ├─░────────■────────░─┤ H ├┤ X ├─░────────■────────░─┤ X ├»\n",
       "              ░ ├───┤ ░ ┌───┐  │  ┌───┐ ░ ├───┤├───┤ ░ ┌───┐┌─┴─┐┌───┐ ░ ├───┤»\n",
       "   q_2: ──────░─┤ H ├─░─┤ X ├──■──┤ X ├─░─┤ H ├┤ X ├─░─┤ H ├┤ X ├┤ H ├─░─┤ X ├»\n",
       "        ┌───┐ ░ ├───┤ ░ └───┘┌─┴─┐└───┘ ░ ├───┤└───┘ ░ └───┘└───┘└───┘ ░ └───┘»\n",
       "   q_3: ┤ X ├─░─┤ H ├─░──────┤ X ├──────░─┤ H ├──────░─────────────────░──────»\n",
       "        └───┘ ░ └───┘ ░      └───┘      ░ └───┘      ░                 ░      »\n",
       "creg: 3/══════════════════════════════════════════════════════════════════════»\n",
       "                                                                              »\n",
       "«        ┌───┐┌─┐      \n",
       "«   q_0: ┤ H ├┤M├──────\n",
       "«        ├───┤└╥┘┌─┐   \n",
       "«   q_1: ┤ H ├─╫─┤M├───\n",
       "«        ├───┤ ║ └╥┘┌─┐\n",
       "«   q_2: ┤ H ├─╫──╫─┤M├\n",
       "«        └───┘ ║  ║ └╥┘\n",
       "«   q_3: ──────╫──╫──╫─\n",
       "«              ║  ║  ║ \n",
       "«creg: 3/══════╩══╩══╩═\n",
       "«              0  1  2 </pre>"
      ],
      "text/plain": [
       "              ░ ┌───┐ ░ ┌───┐     ┌───┐ ░ ┌───┐┌───┐ ░                 ░ ┌───┐»\n",
       "   q_0: ──────░─┤ H ├─░─┤ X ├──■──┤ X ├─░─┤ H ├┤ X ├─░────────■────────░─┤ X ├»\n",
       "              ░ ├───┤ ░ └───┘  │  └───┘ ░ ├───┤├───┤ ░        │        ░ ├───┤»\n",
       "   q_1: ──────░─┤ H ├─░────────■────────░─┤ H ├┤ X ├─░────────■────────░─┤ X ├»\n",
       "              ░ ├───┤ ░ ┌───┐  │  ┌───┐ ░ ├───┤├───┤ ░ ┌───┐┌─┴─┐┌───┐ ░ ├───┤»\n",
       "   q_2: ──────░─┤ H ├─░─┤ X ├──■──┤ X ├─░─┤ H ├┤ X ├─░─┤ H ├┤ X ├┤ H ├─░─┤ X ├»\n",
       "        ┌───┐ ░ ├───┤ ░ └───┘┌─┴─┐└───┘ ░ ├───┤└───┘ ░ └───┘└───┘└───┘ ░ └───┘»\n",
       "   q_3: ┤ X ├─░─┤ H ├─░──────┤ X ├──────░─┤ H ├──────░─────────────────░──────»\n",
       "        └───┘ ░ └───┘ ░      └───┘      ░ └───┘      ░                 ░      »\n",
       "creg: 3/══════════════════════════════════════════════════════════════════════»\n",
       "                                                                              »\n",
       "«        ┌───┐┌─┐      \n",
       "«   q_0: ┤ H ├┤M├──────\n",
       "«        ├───┤└╥┘┌─┐   \n",
       "«   q_1: ┤ H ├─╫─┤M├───\n",
       "«        ├───┤ ║ └╥┘┌─┐\n",
       "«   q_2: ┤ H ├─╫──╫─┤M├\n",
       "«        └───┘ ║  ║ └╥┘\n",
       "«   q_3: ──────╫──╫──╫─\n",
       "«              ║  ║  ║ \n",
       "«creg: 3/══════╩══╩══╩═\n",
       "«              0  1  2 "
      ]
     },
     "execution_count": 89,
     "metadata": {},
     "output_type": "execute_result"
    }
   ],
   "source": [
    "qc = QuantumCircuit()\n",
    "qr = QuantumRegister(4,'q')\n",
    "cr = ClassicalRegister(3,'creg')\n",
    "qc.add_register(qr)\n",
    "qc.add_register(cr)\n",
    "\n",
    "qc.x(3)\n",
    "qc.barrier()\n",
    "\n",
    "#initialize in equal superposition of all possible input states\n",
    "qc.h(list(range(4)))\n",
    "\n",
    "qc.barrier()\n",
    "\n",
    "\n",
    "#Boolean Oracle\n",
    "qc.x(0)\n",
    "qc.x(2)\n",
    "qc.mct(list(range(3)), 3)\n",
    "qc.x(0)\n",
    "qc.x(2)\n",
    "\n",
    "qc.barrier()\n",
    "#qc.h(3)\n",
    "\n",
    "\n",
    "#Amplification\n",
    "qc.h(list(range(4)))\n",
    "qc.x(list(range(3)))\n",
    "\n",
    "#this is the multi-control z gate\n",
    "qc.barrier()\n",
    "qc.h(2)\n",
    "qc.mct(list(range(2)),2)\n",
    "qc.h(2)\n",
    "qc.barrier()\n",
    "\n",
    "qc.x(list(range(3)))\n",
    "qc.h(list(range(3)))\n",
    "\n",
    "\n",
    "#measure\n",
    "qc.measure(list(range(3)), list(range(3)))\n",
    "\n",
    "\n",
    "qc.draw()"
   ]
  },
  {
   "cell_type": "code",
   "execution_count": 90,
   "id": "bc50c584",
   "metadata": {},
   "outputs": [
    {
     "data": {
      "image/png": "[encoded data removed]",
      "text/plain": [
       "<Figure size 700x500 with 1 Axes>"
      ]
     },
     "execution_count": 90,
     "metadata": {},
     "output_type": "execute_result"
    }
   ],
   "source": [
    "aer_sim = Aer.get_backend('aer_simulator')\n",
    "job = aer_sim.run(qc, shots = 1024)\n",
    "hist = job.result().get_counts()\n",
    "plot_histogram(hist)"
   ]
  },
  {
   "cell_type": "markdown",
   "id": "f6dda285",
   "metadata": {},
   "source": [
    "  "
   ]
  },
  {
   "cell_type": "markdown",
   "id": "06a12c57",
   "metadata": {},
   "source": [
    "### b)"
   ]
  },
  {
   "cell_type": "markdown",
   "id": "1a07cc7c",
   "metadata": {},
   "source": [
    "In both cases, the amplitude of the searched for states become negative, however when using a boolean oracle you also need an ancillary qubit to \"store\" the result (I assume for phase kickback?). From what I gather from reading on the web, if your algorithm always ends with the ancillary bit in the same state as when it started, then you can just switch to using a phase oracle? I'm not entirely sure though if there are algorithms that actually use the state of the ancillary bit (at least Grover's does not)."
   ]
  }
 ],
 "metadata": {
  "kernelspec": {
   "display_name": "Python 3 (ipykernel)",
   "language": "python",
   "name": "python3"
  },
  "language_info": {
   "codemirror_mode": {
    "name": "ipython",
    "version": 3
   },
   "file_extension": ".py",
   "mimetype": "text/x-python",
   "name": "python",
   "nbconvert_exporter": "python",
   "pygments_lexer": "ipython3",
   "version": "3.10.8"
  }
 },
 "nbformat": 4,
 "nbformat_minor": 5
}
