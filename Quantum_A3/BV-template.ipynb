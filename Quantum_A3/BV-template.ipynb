{
 "cells": [
  {
   "cell_type": "markdown",
   "id": "f1cf7582",
   "metadata": {},
   "source": [
    "# The Parity Problem\n",
    "You are given a function as a black box: $ f: \\{0, 1\\}^n \\rightarrow \\{0, 1\\}$ and $f(x) = u.x \\mod2$.\n",
    "\n",
    "For some hidden $u \\in \\{0, 1\\}^n$, find $u$ with as few queries as possible. This is a restricted version of the Deutsch–Jozsa algorithm where instead of distinguishing between two different classes of functions, it tries to learn a string encoded in a function. "
   ]
  },
  {
   "cell_type": "markdown",
   "id": "c3510c31",
   "metadata": {},
   "source": [
    "## A classical solution"
   ]
  },
  {
   "cell_type": "markdown",
   "id": "98650d71",
   "metadata": {},
   "source": [
    "We need $n$ queries to compute the hidden string, because each time you run this circuit, you get only one bit of information. \n",
    "For example: let the hidden string $u = 101 $.\n",
    "\n",
    "$$ f(100) = 1 $$ \n",
    "\n",
    "$$ f(010) = 0 $$\n",
    "\n",
    "$$ f(001) = 1 $$\n",
    "\n",
    "One possible solution to implement this classically is to use a classical AND gate as a mask to get each bit of information. "
   ]
  },
  {
   "cell_type": "markdown",
   "id": "64e75ace",
   "metadata": {},
   "source": [
    "## The Bernstein-Vazirani Algorithm\n",
    "In contrast to the classical solution, the quantum solution requires only one query to find the hidden $u$. This algorithm was invented by Ethan Bernstein and Umesh Vazirani in 1992. Your task is to implement this algorithm in Q#. You can read more about the algorithm [here](https://en.wikipedia.org/wiki/Bernstein%E2%80%93Vazirani_algorithm).\n",
    "\n",
    "The Bernstein-Vazirani algorithm is described as follows:\n",
    "1. Initialize n query qubits in the state $|0\\rangle$ and one answer qubit in the state $|-\\rangle$\n",
    "2. Apply the Hadamard Transform to an n-qubit query state to get $H|0\\rangle^{\\otimes n} =  \\frac{1}{2^{n/2}} \\sum_x |x> $.\n",
    "3. Apply the oracle $U_f$ which transforms the state to  $\\frac{1}{2^{n/2}} \\sum_x (-1)^{u.x} |x> $\n",
    "4. Apply the Hadamard Transform to the query state after the oracle is applied.\n",
    "5. Measure in the computational basis."
   ]
  },
  {
   "cell_type": "markdown",
   "id": "12865207",
   "metadata": {},
   "source": [
    "## Task 1\n",
    "**Summary**\n",
    "\n",
    "Prepare a qubit state in a uniform superposition\n",
    "\n",
    "**Input**\n",
    "\n",
    "*query*: an array of query qubits\n",
    "\n",
    "**Output** \n",
    "\n",
    "Apply the hadamard transform to n qubits in state $|0\\rangle$. \n"
   ]
  },
  {
   "cell_type": "code",
   "execution_count": 4,
   "id": "6b59c547",
   "metadata": {},
   "outputs": [
    {
     "data": {
      "application/x-qsharp-data": "[\"WalshHadamardTransform\"]",
      "text/html": [
       "<ul><li>WalshHadamardTransform</li></ul>"
      ],
      "text/plain": [
       "WalshHadamardTransform"
      ]
     },
     "execution_count": 4,
     "metadata": {
      "application/x-qsharp-data": {},
      "text/html": {},
      "text/plain": {}
     },
     "output_type": "execute_result"
    }
   ],
   "source": [
    "operation WalshHadamardTransform(query: Qubit[]): Unit is Adj{\n",
    "    for i in 0 .. Length(query) - 1 {\n",
    "        H(query[i]);\n",
    "    }\n",
    "}"
   ]
  },
  {
   "cell_type": "markdown",
   "id": "f877ffd3",
   "metadata": {},
   "source": [
    "## Task 2\n",
    "**Summary**\n",
    "\n",
    "Prepare the answer qubit state in the state $|-\\rangle$\n",
    "\n",
    "**Input**\n",
    "\n",
    "*answer*: the answer qubit"
   ]
  },
  {
   "cell_type": "code",
   "execution_count": 145,
   "id": "7bf85715",
   "metadata": {},
   "outputs": [
    {
     "data": {
      "application/x-qsharp-data": "[\"PrepareAnswerQubit\"]",
      "text/html": [
       "<ul><li>PrepareAnswerQubit</li></ul>"
      ],
      "text/plain": [
       "PrepareAnswerQubit"
      ]
     },
     "execution_count": 145,
     "metadata": {
      "application/x-qsharp-data": {},
      "text/html": {},
      "text/plain": {}
     },
     "output_type": "execute_result"
    }
   ],
   "source": [
    "operation PrepareAnswerQubit(answer: Qubit): Unit {\n",
    "    H(answer);\n",
    "    Z(answer);\n",
    "}"
   ]
  },
  {
   "cell_type": "markdown",
   "id": "c4c067ea",
   "metadata": {},
   "source": [
    "## Task 3\n",
    "\n",
    "\n",
    "**Summary**\n",
    "\n",
    "Encode the secret string (supplied as a boolean array s) into a function $U_f$\n",
    "\n",
    "**Input**: \n",
    "query: qubit array\n",
    "answer: answer qubit\n",
    "s: secret string as a boolean array\n"
   ]
  },
  {
   "cell_type": "code",
   "execution_count": 146,
   "id": "c5a9091a",
   "metadata": {},
   "outputs": [
    {
     "data": {
      "application/x-qsharp-data": "[\"Uf\"]",
      "text/html": [
       "<ul><li>Uf</li></ul>"
      ],
      "text/plain": [
       "Uf"
      ]
     },
     "execution_count": 146,
     "metadata": {
      "application/x-qsharp-data": {},
      "text/html": {},
      "text/plain": {}
     },
     "output_type": "execute_result"
    }
   ],
   "source": [
    "operation Uf(query : Qubit[], answer: Qubit, s: Bool[]): Unit {\n",
    "    \n",
    "    for i in 0 .. Length(s) - 1 {\n",
    "            if s[i] == true {\n",
    "                CNOT(query[i], answer);\n",
    "            }\n",
    "    }\n",
    "}"
   ]
  },
  {
   "cell_type": "markdown",
   "id": "26effd64",
   "metadata": {},
   "source": [
    "## Task 4: Explain what gates you applied to create the encoded string as $U_f$ and why you applied them."
   ]
  },
  {
   "cell_type": "markdown",
   "id": "b917aeaa",
   "metadata": {},
   "source": [
    "The only gate you have to apply is the CNOT gate. Whichever position has a 1 in the hidden string you apply the CNOT with the control on the corresponding position in the query qubits and the target on the answer qubit. This make it so that the phase kickback will only affect the qubits corresponding to a 1 in the hidden string."
   ]
  },
  {
   "cell_type": "markdown",
   "id": "dd3af85c",
   "metadata": {},
   "source": [
    "## Task 5: Run the Bernstein-Vazirani Algorithm using operations defined above\n",
    "\n",
    "1. Create the secret string, and the required qubits\n",
    "1. Perform the Bernstein Vazirani algorithm by using the tasks above. \n",
    "1. Measure the resulting query qubits. \n",
    "1. Transform the query results into an integer array which should give you the secret string. Return this integer array.\n",
    "\n",
    "**Notice the hadamard-oracle-hadamard structure of the circuit. You can use the within..apply pattern in Q\\# to do this. (Lecture 8 programming slides, Slide\\# 26 )** "
   ]
  },
  {
   "cell_type": "code",
   "execution_count": 147,
   "id": "0beffbd5",
   "metadata": {},
   "outputs": [
    {
     "data": {
      "application/x-qsharp-data": "[\"BernsteinVazirani\"]",
      "text/html": [
       "<ul><li>BernsteinVazirani</li></ul>"
      ],
      "text/plain": [
       "BernsteinVazirani"
      ]
     },
     "execution_count": 147,
     "metadata": {
      "application/x-qsharp-data": {},
      "text/html": {},
      "text/plain": {}
     },
     "output_type": "execute_result"
    }
   ],
   "source": [
    "operation BernsteinVazirani () : Int [] {\n",
    "    mutable result = [0, size=6]; //Change the size according to the size of your secret string\n",
    "    use q = Qubit[6];\n",
    "    use answer = Qubit();\n",
    "    let s = [true, false, false, true, false, false];\n",
    "    \n",
    "    \n",
    "    within {\n",
    "        WalshHadamardTransform(q);\n",
    "    } apply{\n",
    "        Uf(q, answer, s);\n",
    "    }\n",
    "    \n",
    "    for i in 0 .. Length(q) - 1 {\n",
    "            let mes = M(q[i]);\n",
    "            let bit = mes == Zero ? 0 | 1;\n",
    "            set result w/= i <- bit;\n",
    "    }\n",
    "    \n",
    "    ResetAll(q);\n",
    "    Reset(answer);\n",
    "    return result;\n",
    "}"
   ]
  },
  {
   "cell_type": "code",
   "execution_count": 159,
   "id": "5ec58fe0",
   "metadata": {},
   "outputs": [
    {
     "data": {
      "application/x-qsharp-data": "[1,0,0,1,0,0]",
      "text/html": [
       "<ul><li>1</li><li>0</li><li>0</li><li>1</li><li>0</li><li>0</li></ul>"
      ],
      "text/plain": [
       "1, 0, 0, 1, 0, 0"
      ]
     },
     "execution_count": 159,
     "metadata": {
      "application/x-qsharp-data": {},
      "text/html": {},
      "text/plain": {}
     },
     "output_type": "execute_result"
    }
   ],
   "source": [
    "%simulate BernsteinVazirani"
   ]
  },
  {
   "cell_type": "markdown",
   "id": "f126ceea",
   "metadata": {},
   "source": [
    "I've somehow managed to design code that works half of the time. I get 100100 50% of the time, and 000000 the other 50%. Not sure how I've managed that."
   ]
  }
 ],
 "metadata": {
  "kernelspec": {
   "display_name": "Q#",
   "language": "qsharp",
   "name": "iqsharp"
  },
  "language_info": {
   "file_extension": ".qs",
   "mimetype": "text/x-qsharp",
   "name": "qsharp",
   "version": "0.27"
  }
 },
 "nbformat": 4,
 "nbformat_minor": 5
}
